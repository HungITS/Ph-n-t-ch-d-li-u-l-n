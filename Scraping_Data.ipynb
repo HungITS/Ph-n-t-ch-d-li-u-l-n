{
 "cells": [
  {
   "cell_type": "code",
   "execution_count": 1,
   "metadata": {},
   "outputs": [],
   "source": [
    "import numpy as np\n",
    "import time\n",
    "import pandas as pd\n",
    "from bs4 import BeautifulSoup\n",
    "import cloudscraper\n",
    "from concurrent.futures import ThreadPoolExecutor\n",
    "import random"
   ]
  },
  {
   "cell_type": "code",
   "execution_count": 8,
   "metadata": {},
   "outputs": [
    {
     "name": "stdout",
     "output_type": "stream",
     "text": [
      "Failed to fetch page 2, status code: 403\n",
      "Failed to fetch page 136, status code: 403\n",
      "Failed to fetch page 138, status code: 403\n",
      "Failed to fetch page 140, status code: 403\n",
      "Failed to fetch page 144, status code: 403\n",
      "Failed to fetch page 148, status code: 403\n",
      "Failed to fetch page 163, status code: 403\n",
      "Failed to fetch page 183, status code: 403\n",
      "Failed to fetch page 215, status code: 403\n",
      "Failed to fetch page 234, status code: 403\n"
     ]
    }
   ],
   "source": [
    "def get_links(page):\n",
    "    time.sleep(1)\n",
    "    page= str(page+1)\n",
    "    headers = {\n",
    "    'User-Agent': 'Mozilla/5.0 (Windows NT 10.0; Win64; x64) AppleWebKit/537.36 (KHTML, like Gecko) Chrome/129.0.0.0 Safari/537.36'\n",
    "    }\n",
    "\n",
    "    link =\"https://www.nhatot.com/mua-ban-can-ho-chung-cu-ha-noi?page=\"+page\n",
    "\n",
    "    # Gửi yêu cầu HTTP bằng requests\n",
    "    #r = requests.get(link, headers=headers)\n",
    "    try: \n",
    "        response = scraper.get(link, headers=headers)\n",
    "        if response.status_code == 200:\n",
    "        # Phân tích nội dung HTML bằng BeautifulSoup\n",
    "            soup = BeautifulSoup(response.text, 'html.parser')\n",
    "        \n",
    "        # Tìm tất cả các thẻ <a> có class 'crd7gu7'\n",
    "            a = soup.find_all(\"a\", itemprop=\"item\")\n",
    "\n",
    "        # Lấy href từ các thẻ <a> và thêm vào danh sách\n",
    "            for i in range(len(a)):\n",
    "                link = \"https://www.nhatot.com/\" + a[i]['href']\n",
    "                arr.append(link)\n",
    "        else:\n",
    "            print(f\"Failed to fetch page {page}, status code: {response.status_code}\")\n",
    "            return []\n",
    "    except Exception as error:\n",
    "        print(error)\n",
    "        return []\n",
    "\n",
    "\n",
    "arr = []\n",
    "scraper = cloudscraper.create_scraper()\n",
    "\n",
    "start_time = time.time()\n",
    "with ThreadPoolExecutor(max_workers=10) as executor:\n",
    "    # Chạy đa luồng với 296 trang\n",
    "    results = list(executor.map(get_links, range(296)))\n",
    "    \n",
    "for result in results:\n",
    "    if result is not None:\n",
    "        arr.extend(result)    \n",
    "# Tạo DataFrame từ danh sách các link\n",
    "df_links = pd.DataFrame(arr,columns=['links'])"
   ]
  },
  {
   "cell_type": "code",
   "execution_count": null,
   "metadata": {},
   "outputs": [],
   "source": [
    "df_links.to_csv('chotot_2.csv',index=True)\n",
    "print(\"done\")"
   ]
  },
  {
   "cell_type": "code",
   "execution_count": 2,
   "metadata": {},
   "outputs": [
    {
     "data": {
      "text/html": [
       "<div>\n",
       "<style scoped>\n",
       "    .dataframe tbody tr th:only-of-type {\n",
       "        vertical-align: middle;\n",
       "    }\n",
       "\n",
       "    .dataframe tbody tr th {\n",
       "        vertical-align: top;\n",
       "    }\n",
       "\n",
       "    .dataframe thead th {\n",
       "        text-align: right;\n",
       "    }\n",
       "</style>\n",
       "<table border=\"1\" class=\"dataframe\">\n",
       "  <thead>\n",
       "    <tr style=\"text-align: right;\">\n",
       "      <th></th>\n",
       "      <th>Unnamed: 0</th>\n",
       "      <th>links</th>\n",
       "    </tr>\n",
       "  </thead>\n",
       "  <tbody>\n",
       "    <tr>\n",
       "      <th>0</th>\n",
       "      <td>0</td>\n",
       "      <td>https://www.nhatot.com/https://www.nhatot.com</td>\n",
       "    </tr>\n",
       "    <tr>\n",
       "      <th>1</th>\n",
       "      <td>1</td>\n",
       "      <td>https://www.nhatot.com/https://www.nhatot.com/...</td>\n",
       "    </tr>\n",
       "    <tr>\n",
       "      <th>2</th>\n",
       "      <td>2</td>\n",
       "      <td>https://www.nhatot.com//mua-ban-can-ho-chung-c...</td>\n",
       "    </tr>\n",
       "    <tr>\n",
       "      <th>3</th>\n",
       "      <td>3</td>\n",
       "      <td>https://www.nhatot.com//mua-ban-can-ho-chung-c...</td>\n",
       "    </tr>\n",
       "    <tr>\n",
       "      <th>4</th>\n",
       "      <td>4</td>\n",
       "      <td>https://www.nhatot.com//mua-ban-can-ho-chung-c...</td>\n",
       "    </tr>\n",
       "  </tbody>\n",
       "</table>\n",
       "</div>"
      ],
      "text/plain": [
       "   Unnamed: 0                                              links\n",
       "0           0      https://www.nhatot.com/https://www.nhatot.com\n",
       "1           1  https://www.nhatot.com/https://www.nhatot.com/...\n",
       "2           2  https://www.nhatot.com//mua-ban-can-ho-chung-c...\n",
       "3           3  https://www.nhatot.com//mua-ban-can-ho-chung-c...\n",
       "4           4  https://www.nhatot.com//mua-ban-can-ho-chung-c..."
      ]
     },
     "execution_count": 2,
     "metadata": {},
     "output_type": "execute_result"
    }
   ],
   "source": [
    "frame = pd.read_csv('chotot_2.csv')\n",
    "frame.head()"
   ]
  },
  {
   "cell_type": "code",
   "execution_count": 3,
   "metadata": {},
   "outputs": [],
   "source": [
    "address = []\n",
    "estate_condition = []\n",
    "acreage = []\n",
    "price_m2 = []\n",
    "bedroom = []\n",
    "block = []\n",
    "floor = []\n",
    "bath_room = []\n",
    "types = []\n",
    "Legal_papers = []\n",
    "id_house = []\n",
    "furniture_condition = []\n",
    "main_direction = []\n",
    "balcony_direction = []\n",
    "Character =  []\n",
    "price = []"
   ]
  },
  {
   "cell_type": "code",
   "execution_count": 5,
   "metadata": {},
   "outputs": [],
   "source": [
    "# Từ điển ánh xạ giữa các thuộc tính và danh sách tương ứng\n",
    "mapping_dict = {\n",
    "    'Tình trạng bất động sản': estate_condition,\n",
    "    'Diện tích': acreage,\n",
    "    'Giá/m²': price_m2,  # Sử dụng đúng ký tự 'm²'\n",
    "    'Số phòng ngủ': bedroom,\n",
    "    'Tên phân khu/Lô/Block/Tháp': block,\n",
    "    'Tầng số': floor,\n",
    "    'Số phòng vệ sinh': bath_room,\n",
    "    'Loại hình căn hộ': types,\n",
    "    'Giấy tờ pháp lý': Legal_papers,\n",
    "    'Mã căn': id_house,\n",
    "    'Tình trạng nội thất': furniture_condition,\n",
    "    'Hướng cửa chính': main_direction,\n",
    "    'Hướng ban công': balcony_direction,\n",
    "    'Đặc điểm căn hộ': Character\n",
    "}\n",
    "\n",
    "def get_data(link):\n",
    "    try:\n",
    "        time.sleep(random.uniform(2, 5))  \n",
    "        info_class = \"col-xs-6 AdParam_adParamItemPty__k3rlZ\"\n",
    "        notfound_class = \"notfound-message\"\n",
    "\n",
    "        # Gửi yêu cầu HTTP\n",
    "        headers = {\n",
    "            'User-Agent': 'Mozilla/5.0 (X11; Ubuntu; Linux x86_64; rv:133.0) Gecko/20100101 Firefox/133.0'\n",
    "        }\n",
    "\n",
    "        \n",
    "        scraper = cloudscraper.create_scraper()\n",
    "        r = scraper.get(link, headers=headers)\n",
    "        print(r)\n",
    "        soup = BeautifulSoup(r.content, 'html.parser')\n",
    "        \n",
    "        if soup.find(class_=notfound_class) is None:\n",
    "            # Lấy địa chỉ (nếu có)\n",
    "            add = soup.find(class_='bwq0cbs flex-1')\n",
    "            address.append(add.text.strip() if add else np.nan)\n",
    "\n",
    "            # Lấy giá (nếu có)\n",
    "            \n",
    "            price_tag = soup.find(class_='pyhk1dv')\n",
    "            price.append(price_tag.text.strip() if price_tag else np.nan)\n",
    "\n",
    "            flags = {key: False for key in mapping_dict.keys()}\n",
    "\n",
    "            # Tìm tất cả các thẻ chứa thông tin\n",
    "            items = soup.find_all(class_=info_class)\n",
    "            # Duyệt qua các phần tử thông tin\n",
    "            for item in items:\n",
    "                label = item.find('div', class_='AdParam_adParamLabelPty__Qp6G3').get_text(strip=True)\n",
    "                value = item.find('strong', class_='AdParam_adParamValuePty__3uTmt').get_text(strip=True)\n",
    "                for key, lst in mapping_dict.items():\n",
    "                    if label == key:\n",
    "                        lst.append(value)\n",
    "                        flags[key] = True\n",
    "\n",
    "            # Điền NaN cho các trường không tìm thấy\n",
    "            for key, lst in mapping_dict.items():\n",
    "               if not flags[key]:  # Nếu không tìm thấy thông tin cho trường, thêm NaN\n",
    "                    lst.append(np.nan)\n",
    "\n",
    "    except Exception as e:\n",
    "        print(f\"Error processing link {link}: {e}\")"
   ]
  },
  {
   "cell_type": "code",
   "execution_count": 6,
   "metadata": {},
   "outputs": [
    {
     "name": "stdout",
     "output_type": "stream",
     "text": [
      "<Response [429]>\n"
     ]
    }
   ],
   "source": [
    "get_data('https://www.nhatot.com//mua-ban-can-ho-chung-cu-quan-hoang-mai-ha-noi/121909319.htm')"
   ]
  },
  {
   "cell_type": "code",
   "execution_count": 6,
   "metadata": {},
   "outputs": [
    {
     "name": "stdout",
     "output_type": "stream",
     "text": [
      "<Response [429]>\n",
      "<Response [429]>\n",
      "<Response [429]>\n",
      "<Response [429]>\n",
      "<Response [429]>\n",
      "<Response [429]>\n",
      "<Response [429]>\n",
      "<Response [429]>\n",
      "<Response [429]>\n",
      "<Response [429]>\n",
      "<Response [429]>\n",
      "<Response [429]>\n",
      "<Response [429]>\n",
      "<Response [403]>\n",
      "<Response [403]>\n",
      "<Response [429]>\n",
      "<Response [429]>\n",
      "<Response [429]>\n",
      "<Response [429]>\n",
      "<Response [429]>\n",
      "<Response [429]>\n",
      "<Response [429]>\n",
      "<Response [429]>\n"
     ]
    },
    {
     "ename": "KeyboardInterrupt",
     "evalue": "",
     "output_type": "error",
     "traceback": [
      "\u001b[0;31m---------------------------------------------------------------------------\u001b[0m",
      "\u001b[0;31mKeyboardInterrupt\u001b[0m                         Traceback (most recent call last)",
      "Cell \u001b[0;32mIn[6], line 1\u001b[0m\n\u001b[0;32m----> 1\u001b[0m \u001b[38;5;28;01mwith\u001b[39;00m ThreadPoolExecutor(max_workers\u001b[38;5;241m=\u001b[39m\u001b[38;5;241m10\u001b[39m) \u001b[38;5;28;01mas\u001b[39;00m executor:  \u001b[38;5;66;03m# Tối đa 5 luồng\u001b[39;00m\n\u001b[1;32m      2\u001b[0m     executor\u001b[38;5;241m.\u001b[39mmap(get_data, frame[\u001b[38;5;124m'\u001b[39m\u001b[38;5;124mlinks\u001b[39m\u001b[38;5;124m'\u001b[39m][\u001b[38;5;241m516\u001b[39m:])\n",
      "File \u001b[0;32m~/anaconda3/lib/python3.12/concurrent/futures/_base.py:647\u001b[0m, in \u001b[0;36mExecutor.__exit__\u001b[0;34m(self, exc_type, exc_val, exc_tb)\u001b[0m\n\u001b[1;32m    646\u001b[0m \u001b[38;5;28;01mdef\u001b[39;00m \u001b[38;5;21m__exit__\u001b[39m(\u001b[38;5;28mself\u001b[39m, exc_type, exc_val, exc_tb):\n\u001b[0;32m--> 647\u001b[0m     \u001b[38;5;28mself\u001b[39m\u001b[38;5;241m.\u001b[39mshutdown(wait\u001b[38;5;241m=\u001b[39m\u001b[38;5;28;01mTrue\u001b[39;00m)\n\u001b[1;32m    648\u001b[0m     \u001b[38;5;28;01mreturn\u001b[39;00m \u001b[38;5;28;01mFalse\u001b[39;00m\n",
      "File \u001b[0;32m~/anaconda3/lib/python3.12/concurrent/futures/thread.py:238\u001b[0m, in \u001b[0;36mThreadPoolExecutor.shutdown\u001b[0;34m(self, wait, cancel_futures)\u001b[0m\n\u001b[1;32m    236\u001b[0m \u001b[38;5;28;01mif\u001b[39;00m wait:\n\u001b[1;32m    237\u001b[0m     \u001b[38;5;28;01mfor\u001b[39;00m t \u001b[38;5;129;01min\u001b[39;00m \u001b[38;5;28mself\u001b[39m\u001b[38;5;241m.\u001b[39m_threads:\n\u001b[0;32m--> 238\u001b[0m         t\u001b[38;5;241m.\u001b[39mjoin()\n",
      "File \u001b[0;32m~/anaconda3/lib/python3.12/threading.py:1149\u001b[0m, in \u001b[0;36mThread.join\u001b[0;34m(self, timeout)\u001b[0m\n\u001b[1;32m   1146\u001b[0m     \u001b[38;5;28;01mraise\u001b[39;00m \u001b[38;5;167;01mRuntimeError\u001b[39;00m(\u001b[38;5;124m\"\u001b[39m\u001b[38;5;124mcannot join current thread\u001b[39m\u001b[38;5;124m\"\u001b[39m)\n\u001b[1;32m   1148\u001b[0m \u001b[38;5;28;01mif\u001b[39;00m timeout \u001b[38;5;129;01mis\u001b[39;00m \u001b[38;5;28;01mNone\u001b[39;00m:\n\u001b[0;32m-> 1149\u001b[0m     \u001b[38;5;28mself\u001b[39m\u001b[38;5;241m.\u001b[39m_wait_for_tstate_lock()\n\u001b[1;32m   1150\u001b[0m \u001b[38;5;28;01melse\u001b[39;00m:\n\u001b[1;32m   1151\u001b[0m     \u001b[38;5;66;03m# the behavior of a negative timeout isn't documented, but\u001b[39;00m\n\u001b[1;32m   1152\u001b[0m     \u001b[38;5;66;03m# historically .join(timeout=x) for x<0 has acted as if timeout=0\u001b[39;00m\n\u001b[1;32m   1153\u001b[0m     \u001b[38;5;28mself\u001b[39m\u001b[38;5;241m.\u001b[39m_wait_for_tstate_lock(timeout\u001b[38;5;241m=\u001b[39m\u001b[38;5;28mmax\u001b[39m(timeout, \u001b[38;5;241m0\u001b[39m))\n",
      "File \u001b[0;32m~/anaconda3/lib/python3.12/threading.py:1169\u001b[0m, in \u001b[0;36mThread._wait_for_tstate_lock\u001b[0;34m(self, block, timeout)\u001b[0m\n\u001b[1;32m   1166\u001b[0m     \u001b[38;5;28;01mreturn\u001b[39;00m\n\u001b[1;32m   1168\u001b[0m \u001b[38;5;28;01mtry\u001b[39;00m:\n\u001b[0;32m-> 1169\u001b[0m     \u001b[38;5;28;01mif\u001b[39;00m lock\u001b[38;5;241m.\u001b[39macquire(block, timeout):\n\u001b[1;32m   1170\u001b[0m         lock\u001b[38;5;241m.\u001b[39mrelease()\n\u001b[1;32m   1171\u001b[0m         \u001b[38;5;28mself\u001b[39m\u001b[38;5;241m.\u001b[39m_stop()\n",
      "\u001b[0;31mKeyboardInterrupt\u001b[0m: "
     ]
    },
    {
     "name": "stdout",
     "output_type": "stream",
     "text": [
      "<Response [429]>\n",
      "<Response [429]>\n",
      "<Response [429]>\n",
      "<Response [429]>\n",
      "<Response [429]>\n",
      "<Response [429]>\n",
      "<Response [429]>\n",
      "<Response [429]>\n",
      "<Response [429]>\n",
      "<Response [429]>\n",
      "<Response [429]>\n",
      "<Response [429]>\n",
      "<Response [429]>\n",
      "<Response [429]>\n",
      "<Response [429]>\n",
      "<Response [403]>\n",
      "<Response [429]>\n",
      "<Response [429]>\n",
      "<Response [429]>\n"
     ]
    }
   ],
   "source": [
    "with ThreadPoolExecutor(max_workers=10) as executor:  # Tối đa 5 luồng\n",
    "    executor.map(get_data, frame['links'])"
   ]
  },
  {
   "cell_type": "code",
   "execution_count": 6,
   "metadata": {},
   "outputs": [],
   "source": [
    "dict_data = {\n",
    "    'DiaChi' : address,\n",
    "    'TinhTrangBDS' : estate_condition,\n",
    "    'DienTich' : acreage,\n",
    "    'Gia/m2'   : price_m2,\n",
    "    'Phongngu': bedroom,\n",
    "    'TenPhanKhu': block,\n",
    "    'SoTang': floor,\n",
    "    'PhongTam':bath_room,\n",
    "    'Loai': types,\n",
    "    'GiayTo': Legal_papers,\n",
    "    'MaCanHo': id_house,\n",
    "    'TinhTrangNoiThat': furniture_condition,\n",
    "    'HuongCuaChinh': main_direction,\n",
    "    'HuongBanCong': balcony_direction,\n",
    "    'DacDiem':Character,\n",
    "    'Gia': price,\n",
    "}\n",
    "df_data = pd.DataFrame(dict_data)\n",
    "df_data.to_csv('data_crawl.csv',encoding=\"utf-8-sig\",index=False)"
   ]
  },
  {
   "cell_type": "code",
   "execution_count": null,
   "metadata": {},
   "outputs": [],
   "source": []
  }
 ],
 "metadata": {
  "kernelspec": {
   "display_name": "base",
   "language": "python",
   "name": "python3"
  },
  "language_info": {
   "codemirror_mode": {
    "name": "ipython",
    "version": 3
   },
   "file_extension": ".py",
   "mimetype": "text/x-python",
   "name": "python",
   "nbconvert_exporter": "python",
   "pygments_lexer": "ipython3",
   "version": "3.12.7"
  }
 },
 "nbformat": 4,
 "nbformat_minor": 2
}
